{
 "cells": [
  {
   "cell_type": "code",
   "execution_count": 15,
   "id": "e90a49f2",
   "metadata": {},
   "outputs": [
    {
     "name": "stdout",
     "output_type": "stream",
     "text": [
      "         firm     DUVOL\n",
      "0  3IINFOTECH  1.561469\n",
      "1        ABAN  0.377601\n"
     ]
    }
   ],
   "source": [
    "import pandas as pd\n",
    "import numpy as np\n",
    "\n",
    "\n",
    "df = pd.read_csv('Data_Crash Risk.csv')\n",
    "\n",
    "def calculate_duvol(group):\n",
    "    \n",
    "    wave = group['Price'].mean()\n",
    "\n",
    "    # Count the number of days when Price is higher and lower than Wavei,q\n",
    "    nup = group.loc[group['Price'] > wave, 'Price'].count()\n",
    "    ndown = group.loc[group['Price'] < wave, 'Price'].count()\n",
    "\n",
    "    # Ensure nup and ndown both have at least two elements to avoid division by zero\n",
    "    if nup > 1 and ndown > 1:\n",
    "        # Calculate DUVOL using the provided formula\n",
    "        duvol = np.log(((nup - 1) * group.loc[group['Price'] > wave, 'Price'].sum()) / ((ndown - 1) * group.loc[group['Price'] < wave, 'Price'].sum()))\n",
    "    else:\n",
    "        duvol = np.nan\n",
    "\n",
    "    return duvol\n",
    "\n",
    "# Group by 'Firm'\n",
    "grouped_df = df.groupby('firm')\n",
    "\n",
    "\n",
    "duvol_df = grouped_df.apply(calculate_duvol).reset_index(name='DUVOL')\n",
    "\n",
    "\n",
    "duvol_df.to_csv('duvol_output.csv', index=False)\n",
    "\n",
    "print(duvol_df)\n"
   ]
  },
  {
   "cell_type": "code",
   "execution_count": null,
   "id": "b5104058",
   "metadata": {},
   "outputs": [],
   "source": []
  }
 ],
 "metadata": {
  "kernelspec": {
   "display_name": "Python 3 (ipykernel)",
   "language": "python",
   "name": "python3"
  },
  "language_info": {
   "codemirror_mode": {
    "name": "ipython",
    "version": 3
   },
   "file_extension": ".py",
   "mimetype": "text/x-python",
   "name": "python",
   "nbconvert_exporter": "python",
   "pygments_lexer": "ipython3",
   "version": "3.9.13"
  }
 },
 "nbformat": 4,
 "nbformat_minor": 5
}
